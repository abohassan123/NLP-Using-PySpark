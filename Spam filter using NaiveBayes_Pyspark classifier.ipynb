{
  "cells": [
    {
      "cell_type": "markdown",
      "id": "c9da32d6",
      "metadata": {
        "id": "c9da32d6"
      },
      "source": [
        "# NLP Using PySpark"
      ]
    },
    {
      "cell_type": "markdown",
      "id": "8326ba88",
      "metadata": {
        "id": "8326ba88"
      },
      "source": [
        "## Objective:\n",
        "- The objective from this project is to create a <b>Spam filter using NaiveBayes classifier</b>.\n",
        "- It is required to obtain <b>f1_scored > 0.9</b>.\n",
        "- We'll use a dataset from UCI Repository. SMS Spam Detection: https://archive.ics.uci.edu/ml/datasets/SMS+Spam+Collection\n",
        "- Data is also provided for you in the assignment (you do not have to download it)."
      ]
    },
    {
      "cell_type": "markdown",
      "id": "6971f788",
      "metadata": {
        "id": "6971f788"
      },
      "source": [
        "## To perform this task follow the following guiding steps:"
      ]
    },
    {
      "cell_type": "markdown",
      "id": "e31bc851",
      "metadata": {
        "id": "e31bc851"
      },
      "source": [
        "### Create a spark session and import the required libraries"
      ]
    },
    {
      "cell_type": "code",
      "execution_count": 1,
      "id": "dcf86e46",
      "metadata": {
        "colab": {
          "base_uri": "https://localhost:8080/",
          "height": 642
        },
        "id": "dcf86e46",
        "outputId": "4b637f62-e0cb-45e2-e63e-efeae1166df7"
      },
      "outputs": [
        {
          "name": "stdout",
          "output_type": "stream",
          "text": [
            "Looking in indexes: https://pypi.org/simple, https://us-python.pkg.dev/colab-wheels/public/simple/\n",
            "Collecting pyspark\n",
            "  Downloading pyspark-3.3.0.tar.gz (281.3 MB)\n",
            "\u001b[K     |████████████████████████████████| 281.3 MB 49 kB/s \n",
            "\u001b[?25hCollecting py4j==0.10.9.5\n",
            "  Downloading py4j-0.10.9.5-py2.py3-none-any.whl (199 kB)\n",
            "\u001b[K     |████████████████████████████████| 199 kB 66.3 MB/s \n",
            "\u001b[?25hBuilding wheels for collected packages: pyspark\n",
            "  Building wheel for pyspark (setup.py) ... \u001b[?25l\u001b[?25hdone\n",
            "  Created wheel for pyspark: filename=pyspark-3.3.0-py2.py3-none-any.whl size=281764026 sha256=4e6b7407c851c2837f1fe5dde368d2527ff060c56588e4d9a3f0ba014576401c\n",
            "  Stored in directory: /root/.cache/pip/wheels/7a/8e/1b/f73a52650d2e5f337708d9f6a1750d451a7349a867f928b885\n",
            "Successfully built pyspark\n",
            "Installing collected packages: py4j, pyspark\n",
            "Successfully installed py4j-0.10.9.5 pyspark-3.3.0\n",
            "--2022-07-24 20:46:38--  https://archive.ics.uci.edu/ml/machine-learning-databases/00228/smsspamcollection.zip\n",
            "Resolving archive.ics.uci.edu (archive.ics.uci.edu)... 128.195.10.252\n",
            "Connecting to archive.ics.uci.edu (archive.ics.uci.edu)|128.195.10.252|:443... connected.\n",
            "HTTP request sent, awaiting response... 200 OK\n",
            "Length: 203415 (199K) [application/x-httpd-php]\n",
            "Saving to: ‘smsspamcollection.zip’\n",
            "\n",
            "smsspamcollection.z 100%[===================>] 198.65K   717KB/s    in 0.3s    \n",
            "\n",
            "2022-07-24 20:46:39 (717 KB/s) - ‘smsspamcollection.zip’ saved [203415/203415]\n",
            "\n",
            "Reading package lists... Done\n",
            "Building dependency tree       \n",
            "Reading state information... Done\n",
            "unzip is already the newest version (6.0-21ubuntu1.1).\n",
            "The following package was automatically installed and is no longer required:\n",
            "  libnvidia-common-460\n",
            "Use 'apt autoremove' to remove it.\n",
            "0 upgraded, 0 newly installed, 0 to remove and 49 not upgraded.\n",
            "Archive:  /content/smsspamcollection.zip\n",
            "  inflating: SMSSpamCollection       \n",
            "  inflating: readme                  \n"
          ]
        },
        {
          "data": {
            "text/html": [
              "<style>pre { white-space: pre !important; }</style>"
            ],
            "text/plain": [
              "<IPython.core.display.HTML object>"
            ]
          },
          "metadata": {},
          "output_type": "display_data"
        }
      ],
      "source": [
        "!pip install pyspark\n",
        "!wget https://archive.ics.uci.edu/ml/machine-learning-databases/00228/smsspamcollection.zip\n",
        "!apt install unzip\n",
        "!unzip /content/smsspamcollection.zip \n",
        "from pyspark.sql import SparkSession\n",
        "spark = SparkSession.builder.getOrCreate()\n",
        "from IPython.display import display, HTML\n",
        "display(HTML(\"<style>pre { white-space: pre !important; }</style>\"))"
      ]
    },
    {
      "cell_type": "markdown",
      "id": "90c7df9e",
      "metadata": {
        "id": "90c7df9e"
      },
      "source": [
        "### Read the readme file to learn more about the data"
      ]
    },
    {
      "cell_type": "markdown",
      "id": "2d00718f",
      "metadata": {
        "id": "2d00718f"
      },
      "source": [
        "### Read the data into a DataFrame"
      ]
    },
    {
      "cell_type": "code",
      "execution_count": 15,
      "id": "29914cf1",
      "metadata": {
        "id": "29914cf1"
      },
      "outputs": [],
      "source": [
        "sampleDF = spark.read.csv('/content/SMSSpamCollection',inferSchema=True,samplingRatio=0.001)"
      ]
    },
    {
      "cell_type": "code",
      "execution_count": 16,
      "id": "YXFGCgVR-LqM",
      "metadata": {
        "colab": {
          "base_uri": "https://localhost:8080/"
        },
        "id": "YXFGCgVR-LqM",
        "outputId": "721309ab-f1e3-496b-f8f3-2a6f68d9b518"
      },
      "outputs": [
        {
          "data": {
            "text/plain": [
              "StructType([StructField('_c0', StringType(), True), StructField('_c1', StringType(), True)])"
            ]
          },
          "execution_count": 16,
          "metadata": {},
          "output_type": "execute_result"
        }
      ],
      "source": [
        "myschema = sampleDF.schema\n",
        "myschema"
      ]
    },
    {
      "cell_type": "code",
      "execution_count": 17,
      "id": "ziJzAEB3-TPw",
      "metadata": {
        "id": "ziJzAEB3-TPw"
      },
      "outputs": [],
      "source": [
        "df = spark.read.csv('/content/SMSSpamCollection',header=True,schema=myschema,sep='\\t')"
      ]
    },
    {
      "cell_type": "markdown",
      "id": "182cd7f6",
      "metadata": {
        "id": "182cd7f6"
      },
      "source": [
        "### Print the schema"
      ]
    },
    {
      "cell_type": "code",
      "execution_count": 18,
      "id": "OKbaO_z8-bYm",
      "metadata": {
        "colab": {
          "base_uri": "https://localhost:8080/"
        },
        "id": "OKbaO_z8-bYm",
        "outputId": "b7ef5a54-74c1-4881-94a0-648cd2b724c0"
      },
      "outputs": [
        {
          "name": "stdout",
          "output_type": "stream",
          "text": [
            "root\n",
            " |-- _c0: string (nullable = true)\n",
            " |-- _c1: string (nullable = true)\n",
            "\n"
          ]
        }
      ],
      "source": [
        "df.printSchema()"
      ]
    },
    {
      "cell_type": "code",
      "execution_count": 18,
      "id": "b52706b9",
      "metadata": {
        "id": "b52706b9"
      },
      "outputs": [],
      "source": []
    },
    {
      "cell_type": "markdown",
      "id": "2b90cce7",
      "metadata": {
        "id": "2b90cce7"
      },
      "source": [
        "### Rename the first column to 'class' and second column to 'text'"
      ]
    },
    {
      "cell_type": "code",
      "execution_count": 19,
      "id": "VdsMPOXz-rZf",
      "metadata": {
        "colab": {
          "base_uri": "https://localhost:8080/"
        },
        "id": "VdsMPOXz-rZf",
        "outputId": "0d1f379c-d7d8-4195-f668-5420cf6c366f"
      },
      "outputs": [
        {
          "name": "stdout",
          "output_type": "stream",
          "text": [
            "root\n",
            " |-- class: string (nullable = true)\n",
            " |-- text: string (nullable = true)\n",
            "\n"
          ]
        }
      ],
      "source": [
        "df1 = df.withColumnRenamed(\"_c0\",'class')\\\n",
        "        .withColumnRenamed(\"_c1\",'text')\n",
        "df1.printSchema()"
      ]
    },
    {
      "cell_type": "code",
      "execution_count": null,
      "id": "f1a88df6",
      "metadata": {
        "id": "f1a88df6",
        "outputId": "fdd3147e-d27c-4846-9836-e5068a6440a9",
        "scrolled": false
      },
      "outputs": [
        {
          "name": "stdout",
          "output_type": "stream",
          "text": [
            "root\n",
            " |-- class: string (nullable = true)\n",
            " |-- text: string (nullable = true)\n",
            "\n"
          ]
        }
      ],
      "source": []
    },
    {
      "cell_type": "code",
      "execution_count": null,
      "id": "62a544fc",
      "metadata": {
        "id": "62a544fc"
      },
      "outputs": [],
      "source": []
    },
    {
      "cell_type": "markdown",
      "id": "a3e798d0",
      "metadata": {
        "id": "a3e798d0"
      },
      "source": [
        "### Show the first 10 rows from the dataframe\n",
        "- Show once with truncate=True and once with truncate=False"
      ]
    },
    {
      "cell_type": "code",
      "execution_count": 20,
      "id": "wLEoLFre_dzu",
      "metadata": {
        "colab": {
          "base_uri": "https://localhost:8080/"
        },
        "id": "wLEoLFre_dzu",
        "outputId": "64bf8992-8300-457a-b62c-e8f232635db9"
      },
      "outputs": [
        {
          "name": "stdout",
          "output_type": "stream",
          "text": [
            "+-----+--------------------+\n",
            "|class|                text|\n",
            "+-----+--------------------+\n",
            "|  ham|Ok lar... Joking ...|\n",
            "| spam|Free entry in 2 a...|\n",
            "|  ham|U dun say so earl...|\n",
            "|  ham|Nah I don't think...|\n",
            "| spam|FreeMsg Hey there...|\n",
            "|  ham|Even my brother i...|\n",
            "|  ham|As per your reque...|\n",
            "| spam|WINNER!! As a val...|\n",
            "| spam|Had your mobile 1...|\n",
            "|  ham|I'm gonna be home...|\n",
            "+-----+--------------------+\n",
            "only showing top 10 rows\n",
            "\n"
          ]
        }
      ],
      "source": [
        "df1.show(10)"
      ]
    },
    {
      "cell_type": "code",
      "execution_count": 22,
      "id": "eA7toAkz_yT9",
      "metadata": {
        "colab": {
          "base_uri": "https://localhost:8080/"
        },
        "id": "eA7toAkz_yT9",
        "outputId": "1e4f6168-f092-4d21-9c3b-7e97eea41c19"
      },
      "outputs": [
        {
          "name": "stdout",
          "output_type": "stream",
          "text": [
            "+-----+----------------------------------------------------------------------------------------------------------------------------------------------------------------+\n",
            "|class|text                                                                                                                                                            |\n",
            "+-----+----------------------------------------------------------------------------------------------------------------------------------------------------------------+\n",
            "|ham  |Ok lar... Joking wif u oni...                                                                                                                                   |\n",
            "|spam |Free entry in 2 a wkly comp to win FA Cup final tkts 21st May 2005. Text FA to 87121 to receive entry question(std txt rate)T&C's apply 08452810075over18's     |\n",
            "|ham  |U dun say so early hor... U c already then say...                                                                                                               |\n",
            "|ham  |Nah I don't think he goes to usf, he lives around here though                                                                                                   |\n",
            "|spam |FreeMsg Hey there darling it's been 3 week's now and no word back! I'd like some fun you up for it still? Tb ok! XxX std chgs to send, £1.50 to rcv             |\n",
            "|ham  |Even my brother is not like to speak with me. They treat me like aids patent.                                                                                   |\n",
            "|ham  |As per your request 'Melle Melle (Oru Minnaminunginte Nurungu Vettam)' has been set as your callertune for all Callers. Press *9 to copy your friends Callertune|\n",
            "|spam |WINNER!! As a valued network customer you have been selected to receivea £900 prize reward! To claim call 09061701461. Claim code KL341. Valid 12 hours only.   |\n",
            "|spam |Had your mobile 11 months or more? U R entitled to Update to the latest colour mobiles with camera for Free! Call The Mobile Update Co FREE on 08002986030      |\n",
            "|ham  |I'm gonna be home soon and i don't want to talk about this stuff anymore tonight, k? I've cried enough today.                                                   |\n",
            "+-----+----------------------------------------------------------------------------------------------------------------------------------------------------------------+\n",
            "only showing top 10 rows\n",
            "\n"
          ]
        }
      ],
      "source": [
        "df1.show(10,truncate=False)"
      ]
    },
    {
      "cell_type": "code",
      "execution_count": null,
      "id": "tW4rKW5T_lHh",
      "metadata": {
        "id": "tW4rKW5T_lHh"
      },
      "outputs": [],
      "source": []
    },
    {
      "cell_type": "code",
      "execution_count": null,
      "id": "362dcb99",
      "metadata": {
        "id": "362dcb99",
        "outputId": "48855d8e-2e77-4e9a-d085-17adbbfb6f41"
      },
      "outputs": [
        {
          "name": "stdout",
          "output_type": "stream",
          "text": [
            "+-----+--------------------+\n",
            "|class|                text|\n",
            "+-----+--------------------+\n",
            "|  ham|Go until jurong p...|\n",
            "|  ham|Ok lar... Joking ...|\n",
            "| spam|Free entry in 2 a...|\n",
            "|  ham|U dun say so earl...|\n",
            "|  ham|Nah I don't think...|\n",
            "| spam|FreeMsg Hey there...|\n",
            "|  ham|Even my brother i...|\n",
            "|  ham|As per your reque...|\n",
            "| spam|WINNER!! As a val...|\n",
            "| spam|Had your mobile 1...|\n",
            "+-----+--------------------+\n",
            "only showing top 10 rows\n",
            "\n"
          ]
        }
      ],
      "source": []
    },
    {
      "cell_type": "code",
      "execution_count": null,
      "id": "41609e6b",
      "metadata": {
        "id": "41609e6b",
        "outputId": "a964b547-3457-4e2e-d969-a15510e71117"
      },
      "outputs": [
        {
          "name": "stdout",
          "output_type": "stream",
          "text": [
            "+-----+----------------------------------------------------------------------------------------------------------------------------------------------------------------+\n",
            "|class|text                                                                                                                                                            |\n",
            "+-----+----------------------------------------------------------------------------------------------------------------------------------------------------------------+\n",
            "|ham  |Go until jurong point, crazy.. Available only in bugis n great world la e buffet... Cine there got amore wat...                                                 |\n",
            "|ham  |Ok lar... Joking wif u oni...                                                                                                                                   |\n",
            "|spam |Free entry in 2 a wkly comp to win FA Cup final tkts 21st May 2005. Text FA to 87121 to receive entry question(std txt rate)T&C's apply 08452810075over18's     |\n",
            "|ham  |U dun say so early hor... U c already then say...                                                                                                               |\n",
            "|ham  |Nah I don't think he goes to usf, he lives around here though                                                                                                   |\n",
            "|spam |FreeMsg Hey there darling it's been 3 week's now and no word back! I'd like some fun you up for it still? Tb ok! XxX std chgs to send, £1.50 to rcv             |\n",
            "|ham  |Even my brother is not like to speak with me. They treat me like aids patent.                                                                                   |\n",
            "|ham  |As per your request 'Melle Melle (Oru Minnaminunginte Nurungu Vettam)' has been set as your callertune for all Callers. Press *9 to copy your friends Callertune|\n",
            "|spam |WINNER!! As a valued network customer you have been selected to receivea £900 prize reward! To claim call 09061701461. Claim code KL341. Valid 12 hours only.   |\n",
            "|spam |Had your mobile 11 months or more? U R entitled to Update to the latest colour mobiles with camera for Free! Call The Mobile Update Co FREE on 08002986030      |\n",
            "+-----+----------------------------------------------------------------------------------------------------------------------------------------------------------------+\n",
            "only showing top 10 rows\n",
            "\n"
          ]
        }
      ],
      "source": []
    },
    {
      "cell_type": "markdown",
      "id": "2fe744a9",
      "metadata": {
        "id": "2fe744a9"
      },
      "source": [
        "## Clean and Prepare the Data"
      ]
    },
    {
      "cell_type": "markdown",
      "id": "4d693167",
      "metadata": {
        "id": "4d693167"
      },
      "source": [
        "### Create a new feature column contains the length of the text column"
      ]
    },
    {
      "cell_type": "code",
      "execution_count": 30,
      "id": "UoeERYyZAzVu",
      "metadata": {
        "id": "UoeERYyZAzVu"
      },
      "outputs": [],
      "source": [
        "from pyspark.sql.functions import length\n",
        "import pyspark.sql.functions as fn\n",
        "from pyspark.sql.functions import *\n"
      ]
    },
    {
      "cell_type": "code",
      "execution_count": 28,
      "id": "5424a0cb",
      "metadata": {
        "id": "5424a0cb"
      },
      "outputs": [],
      "source": [
        "df2=df1.withColumn(\"length\",length(df1.text))"
      ]
    },
    {
      "cell_type": "markdown",
      "id": "78ea2de6",
      "metadata": {
        "id": "78ea2de6"
      },
      "source": [
        "### Show the new dataframe"
      ]
    },
    {
      "cell_type": "code",
      "execution_count": 29,
      "id": "n1yzrxRUBVvC",
      "metadata": {
        "colab": {
          "base_uri": "https://localhost:8080/"
        },
        "id": "n1yzrxRUBVvC",
        "outputId": "af1fd03c-9e3a-45ca-8a4b-395dec535eee"
      },
      "outputs": [
        {
          "name": "stdout",
          "output_type": "stream",
          "text": [
            "+-----+--------------------+------+\n",
            "|class|                text|length|\n",
            "+-----+--------------------+------+\n",
            "|  ham|Ok lar... Joking ...|    29|\n",
            "| spam|Free entry in 2 a...|   155|\n",
            "|  ham|U dun say so earl...|    49|\n",
            "|  ham|Nah I don't think...|    61|\n",
            "| spam|FreeMsg Hey there...|   147|\n",
            "|  ham|Even my brother i...|    77|\n",
            "|  ham|As per your reque...|   160|\n",
            "| spam|WINNER!! As a val...|   157|\n",
            "| spam|Had your mobile 1...|   154|\n",
            "|  ham|I'm gonna be home...|   109|\n",
            "+-----+--------------------+------+\n",
            "only showing top 10 rows\n",
            "\n"
          ]
        }
      ],
      "source": [
        "df2.show(10)"
      ]
    },
    {
      "cell_type": "code",
      "execution_count": null,
      "id": "04c67c53",
      "metadata": {
        "id": "04c67c53",
        "outputId": "d9ec20cb-3df4-4bbb-aace-3e806d25204b",
        "scrolled": false
      },
      "outputs": [
        {
          "name": "stdout",
          "output_type": "stream",
          "text": [
            "+-----+--------------------+------+\n",
            "|class|                text|length|\n",
            "+-----+--------------------+------+\n",
            "|  ham|Go until jurong p...|   111|\n",
            "|  ham|Ok lar... Joking ...|    29|\n",
            "| spam|Free entry in 2 a...|   155|\n",
            "|  ham|U dun say so earl...|    49|\n",
            "|  ham|Nah I don't think...|    61|\n",
            "| spam|FreeMsg Hey there...|   147|\n",
            "|  ham|Even my brother i...|    77|\n",
            "|  ham|As per your reque...|   160|\n",
            "| spam|WINNER!! As a val...|   157|\n",
            "| spam|Had your mobile 1...|   154|\n",
            "|  ham|I'm gonna be home...|   109|\n",
            "| spam|SIX chances to wi...|   136|\n",
            "| spam|URGENT! You have ...|   155|\n",
            "|  ham|I've been searchi...|   196|\n",
            "|  ham|I HAVE A DATE ON ...|    35|\n",
            "| spam|XXXMobileMovieClu...|   149|\n",
            "|  ham|Oh k...i'm watchi...|    26|\n",
            "|  ham|Eh u remember how...|    81|\n",
            "|  ham|Fine if thats th...|    56|\n",
            "| spam|England v Macedon...|   155|\n",
            "+-----+--------------------+------+\n",
            "only showing top 20 rows\n",
            "\n"
          ]
        }
      ],
      "source": []
    },
    {
      "cell_type": "markdown",
      "id": "692e37a6",
      "metadata": {
        "id": "692e37a6"
      },
      "source": [
        "### Get the average text length for each class (give alias name to the average length column)"
      ]
    },
    {
      "cell_type": "code",
      "execution_count": 31,
      "id": "VrZG0F9OCew9",
      "metadata": {
        "id": "VrZG0F9OCew9"
      },
      "outputs": [],
      "source": [
        "df2.createOrReplaceTempView('table')"
      ]
    },
    {
      "cell_type": "code",
      "execution_count": 41,
      "id": "tRM7RzccBilO",
      "metadata": {
        "colab": {
          "base_uri": "https://localhost:8080/"
        },
        "id": "tRM7RzccBilO",
        "outputId": "3ee86e41-49ff-470a-ba71-4fefdf4a42b5"
      },
      "outputs": [
        {
          "name": "stdout",
          "output_type": "stream",
          "text": [
            "+-----+-----------------+\n",
            "|class|        AvgLenght|\n",
            "+-----+-----------------+\n",
            "|  ham|71.44612515540821|\n",
            "| spam|138.6706827309237|\n",
            "+-----+-----------------+\n",
            "\n"
          ]
        }
      ],
      "source": [
        "spark.sql('''\n",
        "SELECT class,AVG(length) as AvgLenght\n",
        "from table\n",
        "GROUP BY class\n",
        "\n",
        "''').show()"
      ]
    },
    {
      "cell_type": "code",
      "execution_count": null,
      "id": "5c32727d",
      "metadata": {
        "id": "5c32727d",
        "outputId": "d561df14-40ad-4fa2-ea2f-c3fc8aeb02b2"
      },
      "outputs": [
        {
          "name": "stdout",
          "output_type": "stream",
          "text": [
            "+-----+-----------------+\n",
            "|class|      Avg. Lenght|\n",
            "+-----+-----------------+\n",
            "|  ham|71.45431945307645|\n",
            "| spam|138.6706827309237|\n",
            "+-----+-----------------+\n",
            "\n"
          ]
        }
      ],
      "source": []
    },
    {
      "cell_type": "markdown",
      "id": "d5e101af",
      "metadata": {
        "id": "d5e101af"
      },
      "source": [
        "## Feature Transformations"
      ]
    },
    {
      "cell_type": "markdown",
      "id": "838ad9dd",
      "metadata": {
        "id": "838ad9dd"
      },
      "source": [
        "### In this part you transform you raw text in to tf_idf model :\n",
        "- For more information about TF-IDF check the following link: <b>(Not needed for the test)</b>\n",
        "https://en.wikipedia.org/wiki/Tf%E2%80%93idf"
      ]
    },
    {
      "cell_type": "markdown",
      "id": "225067d5",
      "metadata": {
        "id": "225067d5"
      },
      "source": [
        "### Perform the following steps to obtain TF-IDF:\n",
        "1. Import the required transformers/estimators for the subsequent steps.\n",
        "2. Create a <b>Tokenizer</b> from the text column.\n",
        "3. Create a <b>StopWordsRemover</b> to remove the <b>stop words</b> from the column obtained from the <b>Tokenizer</b>.\n",
        "4. Create a <b>CountVectorizer</b> after removing the <b>stop words</b>.\n",
        "5. Create the <b>TF-IDF</b> from the <b>CountVectorizer</b>."
      ]
    },
    {
      "cell_type": "code",
      "execution_count": 74,
      "id": "b82756db",
      "metadata": {
        "id": "b82756db"
      },
      "outputs": [],
      "source": [
        "from pyspark.ml.feature import Tokenizer,StopWordsRemover,CountVectorizer,HashingTF, IDF,StringIndexer,VectorAssembler\n",
        "from pyspark.ml.classification import NaiveBayes\n",
        "from pyspark.ml import Pipeline\n"
      ]
    },
    {
      "cell_type": "code",
      "execution_count": 94,
      "id": "7ZEamDm7Ieh2",
      "metadata": {
        "id": "7ZEamDm7Ieh2"
      },
      "outputs": [],
      "source": [
        "from typing import Pattern\n",
        "tokenizer=Tokenizer(inputCol=\"text\",outputCol=\"textTokenized\")\n",
        "stopWordsRemover=StopWordsRemover(inputCol=\"textTokenized\",outputCol=\"CleanWords\")\n",
        "countVectorizer=CountVectorizer(inputCol=\"CleanWords\",outputCol=\"Vectors\")\n",
        "# hashingTF=HashingTF(inputCol=\"Vectors\", outputCol=\"rawfeatures\")\n",
        "iDF=IDF(inputCol=\"Vectors\", outputCol=\"TfIDFFeatures\")"
      ]
    },
    {
      "cell_type": "code",
      "execution_count": 96,
      "id": "soIBw6ZtRpD1",
      "metadata": {
        "colab": {
          "base_uri": "https://localhost:8080/"
        },
        "id": "soIBw6ZtRpD1",
        "outputId": "d7576ad5-8875-4be6-ec29-9c0a33f6030b"
      },
      "outputs": [
        {
          "name": "stdout",
          "output_type": "stream",
          "text": [
            "+-----+----------------------------------------------------------------------------------------------------------------------------------------------------------------------------------------------------+------+------------------------------------------------------------------------------------------------------------------------------------------------------------------------------------------------------------------------------------------+-----------------------------------------------------------------------------------------------------------------------------------------------------------------------+------------------------------------------------------------------------------------------------------------------------------------------------------------------------------------------+--------------------------------------------------------------------------------------------------------------------------------------------------------------------------------------------------------------------------------------------------------------------------------------------------------------------------------------------------------------------------------------------------------------------------------------------------------------------------------------------------+\n",
            "|class|text                                                                                                                                                                                                |length|textTokenized                                                                                                                                                                                                                             |CleanWords                                                                                                                                                             |Vectors                                                                                                                                                                                   |TfIDFFeatures                                                                                                                                                                                                                                                                                                                                                                                                                                                                                     |\n",
            "+-----+----------------------------------------------------------------------------------------------------------------------------------------------------------------------------------------------------+------+------------------------------------------------------------------------------------------------------------------------------------------------------------------------------------------------------------------------------------------+-----------------------------------------------------------------------------------------------------------------------------------------------------------------------+------------------------------------------------------------------------------------------------------------------------------------------------------------------------------------------+--------------------------------------------------------------------------------------------------------------------------------------------------------------------------------------------------------------------------------------------------------------------------------------------------------------------------------------------------------------------------------------------------------------------------------------------------------------------------------------------------+\n",
            "|ham  |Ok lar... Joking wif u oni...                                                                                                                                                                       |29    |[ok, lar..., joking, wif, u, oni...]                                                                                                                                                                                                      |[ok, lar..., joking, wif, u, oni...]                                                                                                                                   |(13418,[0,24,297,457,2601,4508],[1.0,1.0,1.0,1.0,1.0,1.0])                                                                                                                                |(13418,[0,24,297,457,2601,4508],[2.016518964874513,3.5760122007923565,5.3300313420375645,5.735496450145729,7.239573846922003,7.527255919373784])                                                                                                                                                                                                                                                                                                                                                  |\n",
            "|spam |Free entry in 2 a wkly comp to win FA Cup final tkts 21st May 2005. Text FA to 87121 to receive entry question(std txt rate)T&C's apply 08452810075over18's                                         |155   |[free, entry, in, 2, a, wkly, comp, to, win, fa, cup, final, tkts, 21st, may, 2005., text, fa, to, 87121, to, receive, entry, question(std, txt, rate)t&c's, apply, 08452810075over18's]                                                  |[free, entry, 2, wkly, comp, win, fa, cup, final, tkts, 21st, may, 2005., text, fa, 87121, receive, entry, question(std, txt, rate)t&c's, apply, 08452810075over18's]  |(13418,[2,13,19,30,89,154,193,305,458,515,629,855,954,2008,2024,2356,3023,3287,3442,3941,5016],[1.0,1.0,1.0,1.0,1.0,1.0,1.0,2.0,1.0,1.0,1.0,1.0,1.0,1.0,1.0,2.0,1.0,1.0,1.0,1.0,1.0])     |(13418,[2,13,19,30,89,154,193,305,458,515,629,855,954,2008,2024,2356,3023,3287,3442,3941,5016],[2.704289788398078,3.3325633833174013,3.5632731750149267,3.6700411504406327,4.421175588650928,4.841678574123632,5.099507683425732,11.069651509367155,5.681429228875453,5.735496450145729,5.917818006939683,6.227972935243523,6.323283115047848,7.016430295607793,7.016430295607793,15.054511838747567,7.239573846922003,7.239573846922003,7.527255919373784,7.527255919373784,7.527255919373784])  |\n",
            "|ham  |U dun say so early hor... U c already then say...                                                                                                                                                   |49    |[u, dun, say, so, early, hor..., u, c, already, then, say...]                                                                                                                                                                             |[u, dun, say, early, hor..., u, c, already, say...]                                                                                                                    |(13418,[0,70,80,128,147,323,2911,4492],[2.0,1.0,1.0,1.0,1.0,1.0,1.0,1.0])                                                                                                                 |(13418,[0,70,80,128,147,323,2911,4492],[4.033037929749026,4.256420355574872,4.321803114837723,4.6746244894604665,4.734047909931267,5.406992383173693,7.239573846922003,7.527255919373784])                                                                                                                                                                                                                                                                                                        |\n",
            "|ham  |Nah I don't think he goes to usf, he lives around here though                                                                                                                                       |61    |[nah, i, don't, think, he, goes, to, usf,, he, lives, around, here, though]                                                                                                                                                               |[nah, think, goes, usf,, lives, around, though]                                                                                                                        |(13418,[36,134,313,545,1325,3302,3591],[1.0,1.0,1.0,1.0,1.0,1.0,1.0])                                                                                                                     |(13418,[36,134,313,545,1325,3302,3591],[3.7975544707395925,4.713845202613747,5.367771670020412,5.792654863985677,6.546426666362057,7.527255919373784,7.527255919373784])                                                                                                                                                                                                                                                                                                                          |\n",
            "|spam |FreeMsg Hey there darling it's been 3 week's now and no word back! I'd like some fun you up for it still? Tb ok! XxX std chgs to send, £1.50 to rcv                                                 |147   |[freemsg, hey, there, darling, it's, been, 3, week's, now, and, no, word, back!, i'd, like, some, fun, you, up, for, it, still?, tb, ok!, xxx, std, chgs, to, send,, £1.50, to, rcv]                                                      |[freemsg, hey, darling, 3, week's, word, back!, like, fun, still?, tb, ok!, xxx, std, chgs, send,, £1.50, rcv]                                                         |(13418,[10,60,139,286,356,368,490,1363,1641,2090,2665,3668,3669,4447,4550,5133,5223,5775],[1.0,1.0,1.0,1.0,1.0,1.0,1.0,1.0,1.0,1.0,1.0,1.0,1.0,1.0,1.0,1.0,1.0,1.0])                      |(13418,[10,60,139,286,356,368,490,1363,1641,2090,2665,3668,3669,4447,4550,5133,5223,5775],[3.2277055065241407,4.148531393563687,4.734047909931267,5.25857237805542,5.490373992112744,5.490373992112744,5.735496450145729,6.67995805898658,6.834108738813838,7.016430295607793,7.239573846922003,7.527255919373784,7.527255919373784,7.527255919373784,7.527255919373784,7.527255919373784,7.527255919373784,7.932721027481948])                                                                   |\n",
            "|ham  |Even my brother is not like to speak with me. They treat me like aids patent.                                                                                                                       |77    |[even, my, brother, is, not, like, to, speak, with, me., they, treat, me, like, aids, patent.]                                                                                                                                            |[even, brother, like, speak, me., treat, like, aids, patent.]                                                                                                          |(13418,[10,53,103,243,622,759,10031,10569],[2.0,1.0,1.0,1.0,1.0,1.0,1.0,1.0])                                                                                                             |(13418,[10,53,103,243,622,759,10031,10569],[6.455411013048281,4.040900729371321,4.514994343868582,5.160132305242167,5.917818006939683,6.060918850580356,7.932721027481948,7.932721027481948])                                                                                                                                                                                                                                                                                                     |\n",
            "|ham  |As per your request 'Melle Melle (Oru Minnaminunginte Nurungu Vettam)' has been set as your callertune for all Callers. Press *9 to copy your friends Callertune                                    |160   |[as, per, your, request, 'melle, melle, (oru, minnaminunginte, nurungu, vettam)', has, been, set, as, your, callertune, for, all, callers., press, *9, to, copy, your, friends, callertune]                                               |[per, request, 'melle, melle, (oru, minnaminunginte, nurungu, vettam)', set, callertune, callers., press, *9, copy, friends, callertune]                               |(13418,[125,184,409,913,925,950,1170,1595,1757,2560,2829,2887,2900,3108,3156],[1.0,1.0,1.0,1.0,2.0,1.0,1.0,1.0,1.0,1.0,1.0,1.0,1.0,1.0,1.0])                                              |(13418,[125,184,409,913,925,950,1170,1595,1757,2560,2829,2887,2900,3108,3156],[4.600516517306744,5.014950295397669,5.581345770318471,6.227972935243523,13.668217477627676,6.323283115047848,6.546426666362057,6.834108738813838,6.834108738813838,7.239573846922003,7.239573846922003,7.239573846922003,7.239573846922003,7.239573846922003,7.239573846922003])                                                                                                                                   |\n",
            "|spam |WINNER!! As a valued network customer you have been selected to receivea £900 prize reward! To claim call 09061701461. Claim code KL341. Valid 12 hours only.                                       |157   |[winner!!, as, a, valued, network, customer, you, have, been, selected, to, receivea, £900, prize, reward!, to, claim, call, 09061701461., claim, code, kl341., valid, 12, hours, only.]                                                  |[winner!!, valued, network, customer, selected, receivea, £900, prize, reward!, claim, call, 09061701461., claim, code, kl341., valid, 12, hours, only.]               |(13418,[1,47,118,145,293,322,351,500,543,573,793,1108,1309,2597,3800,5087,5139,5302],[1.0,2.0,1.0,1.0,1.0,1.0,1.0,1.0,1.0,1.0,1.0,1.0,1.0,1.0,1.0,1.0,1.0,1.0])                           |(13418,[1,47,118,145,293,322,351,500,543,573,793,1108,1309,2597,3800,5087,5139,5302],[2.364376523720851,8.001790789515246,4.618535022809422,4.713845202613747,5.293663697866689,5.367771670020412,5.447814377693948,5.735496450145729,5.792654863985677,5.853279485802112,6.140961558253893,6.4286436307056745,6.546426666362057,7.239573846922003,7.527255919373784,7.527255919373784,7.527255919373784,7.527255919373784])                                                                      |\n",
            "|spam |Had your mobile 11 months or more? U R entitled to Update to the latest colour mobiles with camera for Free! Call The Mobile Update Co FREE on 08002986030                                          |154   |[had, your, mobile, 11, months, or, more?, u, r, entitled, to, update, to, the, latest, colour, mobiles, with, camera, for, free!, call, the, mobile, update, co, free, on, 08002986030]                                                  |[mobile, 11, months, more?, u, r, entitled, update, latest, colour, mobiles, camera, free!, call, mobile, update, co, free, 08002986030]                               |(13418,[0,1,13,27,38,196,282,369,391,414,875,1063,1188,1349,1857,2936,4141],[1.0,1.0,1.0,1.0,2.0,1.0,1.0,2.0,1.0,1.0,1.0,1.0,1.0,1.0,1.0,1.0,1.0])                                        |(13418,[0,1,13,27,38,196,282,369,391,414,875,1063,1188,1349,1857,2936,4141],[2.016518964874513,2.364376523720851,3.3325633833174013,3.7058872822137685,7.814738673493598,5.042349269585784,5.25857237805542,11.585309727971355,5.5348257546835775,5.581345770318471,6.227972935243523,6.4286436307056745,6.546426666362057,6.546426666362057,6.834108738813838,7.239573846922003,7.527255919373784])                                                                                              |\n",
            "|ham  |I'm gonna be home soon and i don't want to talk about this stuff anymore tonight, k? I've cried enough today.                                                                                       |109   |[i'm, gonna, be, home, soon, and, i, don't, want, to, talk, about, this, stuff, anymore, tonight,, k?, i've, cried, enough, today.]                                                                                                       |[gonna, home, soon, want, talk, stuff, anymore, tonight,, k?, cried, enough, today.]                                                                                   |(13418,[18,43,120,175,218,228,300,370,2483,5125,5349,10877],[1.0,1.0,1.0,1.0,1.0,1.0,1.0,1.0,1.0,1.0,1.0,1.0])                                                                            |(13418,[18,43,120,175,218,228,300,370,2483,5125,5349,10877],[3.4497184754680643,3.9163380067295592,4.582816940207343,4.888198589758526,5.099507683425732,5.129360646575413,5.293663697866689,5.490373992112744,7.239573846922003,7.527255919373784,7.527255919373784,7.932721027481948])                                                                                                                                                                                                          |\n",
            "|spam |SIX chances to win CASH! From 100 to 20,000 pounds txt> CSH11 and send to 87575. Cost 150p/day, 6days, 16+ TsandCs apply Reply HL 4 info                                                            |136   |[six, chances, to, win, cash!, from, 100, to, 20,000, pounds, txt>, csh11, and, send, to, 87575., cost, 150p/day,, 6days,, 16+, tsandcs, apply, reply, hl, 4, info]                                                                       |[six, chances, win, cash!, 100, 20,000, pounds, txt>, csh11, send, 87575., cost, 150p/day,, 6days,, 16+, tsandcs, apply, reply, hl, 4, info]                           |(13418,[8,17,37,89,281,374,439,515,539,1079,1444,2027,2258,3369,3913,4032,4052,4494,4540,4969,5279],[1.0,1.0,1.0,1.0,1.0,1.0,1.0,1.0,1.0,1.0,1.0,1.0,1.0,1.0,1.0,1.0,1.0,1.0,1.0,1.0,1.0])|(13418,[8,17,37,89,281,374,439,515,539,1079,1444,2027,2258,3369,3913,4032,4052,4494,4540,4969,5279],[3.1452292846999024,3.4109324504329077,3.8722780169355286,4.421175588650928,5.25857237805542,5.490373992112744,5.630135934487902,5.735496450145729,5.792654863985677,6.4286436307056745,6.67995805898658,7.016430295607793,7.016430295607793,7.527255919373784,7.527255919373784,7.527255919373784,7.527255919373784,7.527255919373784,7.527255919373784,7.527255919373784,7.527255919373784])|\n",
            "|spam |URGENT! You have won a 1 week FREE membership in our £100,000 Prize Jackpot! Txt the word: CLAIM to No: 81010 T&C www.dbuk.net LCCLTD POBOX 4403LDNW1A7RW18                                         |155   |[urgent!, you, have, won, a, 1, week, free, membership, in, our, £100,000, prize, jackpot!, txt, the, word:, claim, to, no:, 81010, t&c, www.dbuk.net, lccltd, pobox, 4403ldnw1a7rw18]                                                    |[urgent!, won, 1, week, free, membership, £100,000, prize, jackpot!, txt, word:, claim, no:, 81010, t&c, www.dbuk.net, lccltd, pobox, 4403ldnw1a7rw18]                 |(13418,[13,30,47,87,99,100,118,161,499,525,666,985,2875,3472,3614,4048,4614,4803,4951],[1.0,1.0,1.0,1.0,1.0,1.0,1.0,1.0,1.0,1.0,1.0,1.0,1.0,1.0,1.0,1.0,1.0,1.0,1.0])                     |(13418,[13,30,47,87,99,100,118,161,499,525,666,985,2875,3472,3614,4048,4614,4803,4951],[3.3325633833174013,3.6700411504406327,4.000895394757623,4.377372965992534,4.451480938146257,4.466985124682222,4.618535022809422,4.841678574123632,5.735496450145729,5.792654863985677,5.986810878426635,6.323283115047848,7.239573846922003,7.527255919373784,7.527255919373784,7.527255919373784,7.527255919373784,7.527255919373784,7.527255919373784])                                                 |\n",
            "|ham  |I've been searching for the right words to thank you for this breather. I promise i wont take your help for granted and will fulfil my promise. You have been wonderful and a blessing at all times.|196   |[i've, been, searching, for, the, right, words, to, thank, you, for, this, breather., i, promise, i, wont, take, your, help, for, granted, and, will, fulfil, my, promise., you, have, been, wonderful, and, a, blessing, at, all, times.]|[searching, right, words, thank, breather., promise, wont, take, help, granted, fulfil, promise., wonderful, blessing, times.]                                         |(13418,[39,96,217,221,289,586,630,1190,1804,2089,4109,4631,5420,8824,9608],[1.0,1.0,1.0,1.0,1.0,1.0,1.0,1.0,1.0,1.0,1.0,1.0,1.0,1.0,1.0])                                                 |(13418,[39,96,217,221,289,586,630,1190,1804,2089,4109,4631,5420,8824,9608],[3.7975544707395925,4.482733481650361,5.129360646575413,5.099507683425732,5.293663697866689,5.853279485802112,5.986810878426635,6.546426666362057,6.834108738813838,7.016430295607793,7.527255919373784,7.527255919373784,7.932721027481948,7.932721027481948,7.932721027481948])                                                                                                                                      |\n",
            "|ham  |I HAVE A DATE ON SUNDAY WITH WILL!!                                                                                                                                                                 |35    |[i, have, a, date, on, sunday, with, will!!]                                                                                                                                                                                              |[date, sunday, will!!]                                                                                                                                                 |(13418,[552,1694,6620],[1.0,1.0,1.0])                                                                                                                                                     |(13418,[552,1694,6620],[5.853279485802112,6.834108738813838,7.932721027481948])                                                                                                                                                                                                                                                                                                                                                                                                                   |\n",
            "|spam |XXXMobileMovieClub: To use your credit, click the WAP link in the next txt message or click here>> http://wap. xxxmobilemovieclub.com?n=QJKGIGHJJGCBL                                               |149   |[xxxmobilemovieclub:, to, use, your, credit,, click, the, wap, link, in, the, next, txt, message, or, click, here>>, http://wap., xxxmobilemovieclub.com?n=qjkgighjjgcbl]                                                                 |[xxxmobilemovieclub:, use, credit,, click, wap, link, next, txt, message, click, here>>, http://wap., xxxmobilemovieclub.com?n=qjkgighjjgcbl]                          |(13418,[30,109,111,173,1075,1254,1272,5697,5827,7922,9731,11879],[1.0,1.0,1.0,1.0,1.0,2.0,1.0,1.0,1.0,1.0,1.0,1.0])                                                                       |(13418,[30,109,111,173,1075,1254,1272,5697,5827,7922,9731,11879],[3.6700411504406327,4.548330764136174,4.548330764136174,4.912296141337586,6.4286436307056745,13.35991611797316,6.67995805898658,7.932721027481948,7.932721027481948,7.932721027481948,7.932721027481948,7.932721027481948])                                                                                                                                                                                                      |\n",
            "|ham  |Oh k...i'm watching here:)                                                                                                                                                                          |26    |[oh, k...i'm, watching, here:)]                                                                                                                                                                                                           |[oh, k...i'm, watching, here:)]                                                                                                                                        |(13418,[82,214,4741,6075],[1.0,1.0,1.0,1.0])                                                                                                                                              |(13418,[82,214,4741,6075],[4.321803114837723,5.07052014655248,7.527255919373784,7.932721027481948])                                                                                                                                                                                                                                                                                                                                                                                               |\n",
            "|ham  |Eh u remember how 2 spell his name... Yes i did. He v naughty make until i v wet.                                                                                                                   |81    |[eh, u, remember, how, 2, spell, his, name..., yes, i, did., he, v, naughty, make, until, i, v, wet.]                                                                                                                                     |[eh, u, remember, 2, spell, name..., yes, did., v, naughty, make, v, wet.]                                                                                             |(13418,[0,2,49,132,198,271,777,1603,3117,4217,5686,12900],[1.0,1.0,1.0,1.0,2.0,1.0,1.0,1.0,1.0,1.0,1.0,1.0])                                                                              |(13418,[0,2,49,132,198,271,777,1603,3117,4217,5686,12900],[2.016518964874513,2.704289788398078,4.030748357907304,4.636884161477619,10.383762007113495,5.224670826379739,6.140961558253893,6.834108738813838,7.239573846922003,7.527255919373784,7.932721027481948,7.932721027481948])                                                                                                                                                                                                             |\n",
            "|ham  |Fine if thats the way u feel. Thats the way its gota b                                                                                                                                            |56    |[fine, if, thats, the, way, u, feel., thats, the, way, its, gota, b]                                                                                                                                                                    |[fine, thats, way, u, feel., thats, way, gota, b]                                                                                                                    |(13418,[0,74,105,559,2313,12229,13339],[1.0,2.0,1.0,1.0,2.0,1.0,1.0])                                                                                                                     |(13418,[0,74,105,559,2313,12229,13339],[2.016518964874513,8.590269735511125,4.498733822996802,5.853279485802112,14.479147693844006,7.932721027481948,7.932721027481948])                                                                                                                                                                                                                                                                                                                          |\n",
            "|spam |England v Macedonia - dont miss the goals/team news. Txt ur national team to 87077 eg ENGLAND to 87077 Try:WALES, SCOTLAND 4txt/ú1.20 POBOXox36504W45WQ 16+                                         |155   |[england, v, macedonia, -, dont, miss, the, goals/team, news., txt, ur, national, team, to, 87077, eg, england, to, 87077, try:wales,, scotland, 4txt/ú1.20, poboxox36504w45wq, 16+]                                                      |[england, v, macedonia, -, dont, miss, goals/team, news., txt, ur, national, team, 87077, eg, england, 87077, try:wales,, scotland, 4txt/ú1.20, poboxox36504w45wq, 16+]|(13418,[4,30,33,59,78,198,374,727,839,1171,1298,3130,4104,5516,6520,7040,8305,10482,10933],[1.0,1.0,1.0,1.0,1.0,1.0,1.0,1.0,1.0,2.0,2.0,1.0,1.0,1.0,1.0,1.0,1.0,1.0,1.0])                 |(13418,[4,30,33,59,78,198,374,727,839,1171,1298,3130,4104,5516,6520,7040,8305,10482,10933],[2.892526931144148,3.6700411504406327,3.750670884840742,4.2314190533694545,4.363188331000578,5.191881003556747,5.490373992112744,6.060918850580356,6.140961558253893,13.35991611797316,13.668217477627676,7.239573846922003,7.527255919373784,7.932721027481948,7.932721027481948,7.932721027481948,7.932721027481948,7.932721027481948,7.932721027481948])                                            |\n",
            "|ham  |Is that seriously how you spell his name?                                                                                                                                                           |41    |[is, that, seriously, how, you, spell, his, name?]                                                                                                                                                                                        |[seriously, spell, name?]                                                                                                                                              |(13418,[2247,3117,13292],[1.0,1.0,1.0])                                                                                                                                                   |(13418,[2247,3117,13292],[7.016430295607793,7.239573846922003,7.932721027481948])                                                                                                                                                                                                                                                                                                                                                                                                                 |\n",
            "+-----+----------------------------------------------------------------------------------------------------------------------------------------------------------------------------------------------------+------+------------------------------------------------------------------------------------------------------------------------------------------------------------------------------------------------------------------------------------------+-----------------------------------------------------------------------------------------------------------------------------------------------------------------------+------------------------------------------------------------------------------------------------------------------------------------------------------------------------------------------+--------------------------------------------------------------------------------------------------------------------------------------------------------------------------------------------------------------------------------------------------------------------------------------------------------------------------------------------------------------------------------------------------------------------------------------------------------------------------------------------------+\n",
            "only showing top 20 rows\n",
            "\n"
          ]
        }
      ],
      "source": [
        "a=tokenizer.transform(df2)\n",
        "a=stopWordsRemover.transform(a)\n",
        "aa=countVectorizer.fit(a)\n",
        "z=aa.transform(a)\n",
        "zz=iDF.fit(z)\n",
        "zz.transform(z).show(truncate=False)"
      ]
    },
    {
      "cell_type": "markdown",
      "id": "1527ad65",
      "metadata": {
        "id": "1527ad65"
      },
      "source": [
        "- Convert the <b>class column</b> to index using <b>StringIndexer</b>\n",
        "- Create feature column from the <b>TF-IDF</b> and <b>lenght</b> columns."
      ]
    },
    {
      "cell_type": "code",
      "execution_count": 105,
      "id": "aaf46159",
      "metadata": {
        "id": "aaf46159"
      },
      "outputs": [],
      "source": [
        "stringIndexer=StringIndexer(inputCol=\"class\",outputCol=\"label\")\n",
        "vectorAssembler=VectorAssembler(inputCols=[\"TfIDFFeatures\",\"length\"],outputCol=\"features\")"
      ]
    },
    {
      "cell_type": "markdown",
      "id": "9775d494",
      "metadata": {
        "id": "9775d494"
      },
      "source": [
        "## The Model\n",
        "- Create a <b>NaiveBayes</b> classifier with the default parameters."
      ]
    },
    {
      "cell_type": "code",
      "execution_count": 106,
      "id": "57af0d5d",
      "metadata": {
        "id": "57af0d5d"
      },
      "outputs": [],
      "source": [
        "nb = NaiveBayes()\n"
      ]
    },
    {
      "cell_type": "code",
      "execution_count": 106,
      "id": "54c7384e",
      "metadata": {
        "id": "54c7384e"
      },
      "outputs": [],
      "source": []
    },
    {
      "cell_type": "markdown",
      "id": "dc14de63",
      "metadata": {
        "id": "dc14de63"
      },
      "source": [
        "## Pipeline\n",
        "### Create a pipeline model contains all the steps starting from the Tokenizer to the NaiveBays classifier."
      ]
    },
    {
      "cell_type": "code",
      "execution_count": 107,
      "id": "8ee0d1ca",
      "metadata": {
        "id": "8ee0d1ca"
      },
      "outputs": [],
      "source": [
        "myStage=[tokenizer,stopWordsRemover,countVectorizer,iDF,stringIndexer,vectorAssembler,nb]"
      ]
    },
    {
      "cell_type": "code",
      "execution_count": 108,
      "id": "7f82bab0",
      "metadata": {
        "id": "7f82bab0"
      },
      "outputs": [],
      "source": [
        "pl = Pipeline(stages=myStage)"
      ]
    },
    {
      "cell_type": "markdown",
      "id": "f5d7efbe",
      "metadata": {
        "id": "f5d7efbe"
      },
      "source": [
        "### Split your data to trian and test data with ratios 0.7 and 0.3 respectively."
      ]
    },
    {
      "cell_type": "code",
      "execution_count": 111,
      "id": "2843d997",
      "metadata": {
        "id": "2843d997"
      },
      "outputs": [],
      "source": [
        "trainDF, testDF = df2.randomSplit([0.7, 0.3], seed=42)\n"
      ]
    },
    {
      "cell_type": "markdown",
      "id": "8bcea576",
      "metadata": {
        "id": "8bcea576"
      },
      "source": [
        "### Fit your Pipeline model to the training data"
      ]
    },
    {
      "cell_type": "code",
      "execution_count": 112,
      "id": "3c5d4681",
      "metadata": {
        "id": "3c5d4681"
      },
      "outputs": [],
      "source": [
        "pipelineModel= pl.fit(trainDF)"
      ]
    },
    {
      "cell_type": "markdown",
      "id": "228a3eb1",
      "metadata": {
        "id": "228a3eb1"
      },
      "source": [
        "### Perform predictions on tests dataframe"
      ]
    },
    {
      "cell_type": "code",
      "execution_count": 113,
      "id": "14f4aab5",
      "metadata": {
        "id": "14f4aab5"
      },
      "outputs": [],
      "source": [
        "predDF = pipelineModel.transform(testDF)"
      ]
    },
    {
      "cell_type": "markdown",
      "id": "bce2885f",
      "metadata": {
        "id": "bce2885f"
      },
      "source": [
        "### Print the schema of the prediction dataframe"
      ]
    },
    {
      "cell_type": "code",
      "execution_count": 114,
      "id": "2O45skhEbg8H",
      "metadata": {
        "colab": {
          "base_uri": "https://localhost:8080/"
        },
        "id": "2O45skhEbg8H",
        "outputId": "b3593ae8-59d6-42a7-99d9-91391b36d24c"
      },
      "outputs": [
        {
          "name": "stdout",
          "output_type": "stream",
          "text": [
            "root\n",
            " |-- class: string (nullable = true)\n",
            " |-- text: string (nullable = true)\n",
            " |-- length: integer (nullable = true)\n",
            " |-- textTokenized: array (nullable = true)\n",
            " |    |-- element: string (containsNull = true)\n",
            " |-- CleanWords: array (nullable = true)\n",
            " |    |-- element: string (containsNull = true)\n",
            " |-- Vectors: vector (nullable = true)\n",
            " |-- TfIDFFeatures: vector (nullable = true)\n",
            " |-- label: double (nullable = false)\n",
            " |-- features: vector (nullable = true)\n",
            " |-- rawPrediction: vector (nullable = true)\n",
            " |-- probability: vector (nullable = true)\n",
            " |-- prediction: double (nullable = false)\n",
            "\n"
          ]
        }
      ],
      "source": [
        "predDF.printSchema()"
      ]
    },
    {
      "cell_type": "code",
      "execution_count": null,
      "id": "6e3ea341",
      "metadata": {
        "id": "6e3ea341",
        "outputId": "dad70024-dbea-4fc6-e626-7f299a4be3c5"
      },
      "outputs": [
        {
          "name": "stdout",
          "output_type": "stream",
          "text": [
            "root\n",
            " |-- class: string (nullable = true)\n",
            " |-- text: string (nullable = true)\n",
            " |-- length: integer (nullable = true)\n",
            " |-- label: double (nullable = false)\n",
            " |-- token_text: array (nullable = true)\n",
            " |    |-- element: string (containsNull = true)\n",
            " |-- stop_tokens: array (nullable = true)\n",
            " |    |-- element: string (containsNull = true)\n",
            " |-- c_vec: vector (nullable = true)\n",
            " |-- tf_idf: vector (nullable = true)\n",
            " |-- features: vector (nullable = true)\n",
            " |-- rawPrediction: vector (nullable = true)\n",
            " |-- probability: vector (nullable = true)\n",
            " |-- prediction: double (nullable = false)\n",
            "\n"
          ]
        }
      ],
      "source": []
    },
    {
      "cell_type": "code",
      "execution_count": 115,
      "id": "Z41PHIxVbrvN",
      "metadata": {
        "colab": {
          "base_uri": "https://localhost:8080/"
        },
        "id": "Z41PHIxVbrvN",
        "outputId": "6b888af1-f937-46d7-dacb-64b842c910dd"
      },
      "outputs": [
        {
          "name": "stdout",
          "output_type": "stream",
          "text": [
            "+--------------------+----------+\n",
            "|                text|prediction|\n",
            "+--------------------+----------+\n",
            "| &lt;DECIMAL&gt; ...|       0.0|\n",
            "| said kiss, kiss,...|       0.0|\n",
            "| what number do u...|       0.0|\n",
            "|\"Gimme a few\" was...|       0.0|\n",
            "|\"Response\" is one...|       0.0|\n",
            "|\"SYMPTOMS\" when U...|       0.0|\n",
            "|\"Speak only when ...|       0.0|\n",
            "|&lt;#&gt;  great ...|       0.0|\n",
            "|&lt;#&gt;  w jett...|       0.0|\n",
            "|&lt;#&gt; , that'...|       0.0|\n",
            "|&lt;#&gt; ISH MIN...|       0.0|\n",
            "|(I should add tha...|       0.0|\n",
            "|(No promises on w...|       0.0|\n",
            "|(That said can yo...|       0.0|\n",
            "|* Am on a train b...|       0.0|\n",
            "|* Thought I didn'...|       0.0|\n",
            "|* Was a nice day ...|       0.0|\n",
            "|* Will have two m...|       0.0|\n",
            "|, ,  and  picking...|       0.0|\n",
            "|, how's things? J...|       0.0|\n",
            "+--------------------+----------+\n",
            "only showing top 20 rows\n",
            "\n"
          ]
        }
      ],
      "source": [
        "predDF.select('text','prediction').show()"
      ]
    },
    {
      "cell_type": "code",
      "execution_count": 116,
      "id": "ll83pGKMbzg_",
      "metadata": {
        "id": "ll83pGKMbzg_"
      },
      "outputs": [],
      "source": [
        "from pyspark.ml.evaluation import MulticlassClassificationEvaluator "
      ]
    },
    {
      "cell_type": "markdown",
      "id": "57f27055",
      "metadata": {
        "id": "57f27055"
      },
      "source": [
        "## Model Evaluation\n",
        "- Use <b>MulticlassClassificationEvaluator</b> to calculate the <b>f1_score</b>."
      ]
    },
    {
      "cell_type": "code",
      "execution_count": 121,
      "id": "61911086",
      "metadata": {
        "id": "61911086"
      },
      "outputs": [],
      "source": [
        "f1_score = MulticlassClassificationEvaluator(metricName='f1')"
      ]
    },
    {
      "cell_type": "code",
      "execution_count": 122,
      "id": "be706565",
      "metadata": {
        "colab": {
          "base_uri": "https://localhost:8080/"
        },
        "id": "be706565",
        "outputId": "e403f1e9-e0f2-41c6-8836-f7f1e2278174"
      },
      "outputs": [
        {
          "data": {
            "text/plain": [
              "0.97498871245162"
            ]
          },
          "execution_count": 122,
          "metadata": {},
          "output_type": "execute_result"
        }
      ],
      "source": [
        "f1_score.evaluate(predDF)"
      ]
    }
  ],
  "metadata": {
    "accelerator": "GPU",
    "colab": {
      "collapsed_sections": [],
      "name": "Spark and Python for Big Data Final Exam-Abohassan.ipynb",
      "provenance": []
    },
    "gpuClass": "standard",
    "kernelspec": {
      "display_name": "Python 3.7.6 ('base')",
      "language": "python",
      "name": "python3"
    },
    "language_info": {
      "codemirror_mode": {
        "name": "ipython",
        "version": 3
      },
      "file_extension": ".py",
      "mimetype": "text/x-python",
      "name": "python",
      "nbconvert_exporter": "python",
      "pygments_lexer": "ipython3",
      "version": "3.7.6"
    },
    "vscode": {
      "interpreter": {
        "hash": "98637b40af13a3b0febed2a68b14729a431d5fc1fe8e9140a474894a246ad01c"
      }
    }
  },
  "nbformat": 4,
  "nbformat_minor": 5
}
